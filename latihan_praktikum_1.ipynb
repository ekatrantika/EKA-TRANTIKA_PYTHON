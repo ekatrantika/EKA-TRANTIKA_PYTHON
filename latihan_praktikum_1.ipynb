{
  "nbformat": 4,
  "nbformat_minor": 0,
  "metadata": {
    "colab": {
      "provenance": [],
      "authorship_tag": "ABX9TyOgvf21n3hfp1aBo+2Y+3gM",
      "include_colab_link": true
    },
    "kernelspec": {
      "name": "python3",
      "display_name": "Python 3"
    },
    "language_info": {
      "name": "python"
    }
  },
  "cells": [
    {
      "cell_type": "markdown",
      "metadata": {
        "id": "view-in-github",
        "colab_type": "text"
      },
      "source": [
        "<a href=\"https://colab.research.google.com/github/ekatrantika/EKA-TRANTIKA_PYTHON/blob/main/latihan_praktikum_1.ipynb\" target=\"_parent\"><img src=\"https://colab.research.google.com/assets/colab-badge.svg\" alt=\"Open In Colab\"/></a>"
      ]
    },
    {
      "cell_type": "code",
      "source": [
        "print(\"Hello, siapa namamu?\")\n",
        "a = input()\n",
        "print(\"di kota apa kamu sekarang?\")\n",
        "b = input()\n",
        "print(f\"senang bertemu denganmu{a},di kota{b}\")"
      ],
      "metadata": {
        "colab": {
          "base_uri": "https://localhost:8080/"
        },
        "id": "7CTtvGPiEnOd",
        "outputId": "b8f89aee-b636-464c-98b7-a22d88031170"
      },
      "execution_count": 11,
      "outputs": [
        {
          "output_type": "stream",
          "name": "stdout",
          "text": [
            "Hello, siapa namamu?\n",
            "Eka trantika\n",
            "di kota apa kamu sekarang?\n",
            "Bandung\n",
            "senang bertemu denganmuEka trantika,di kotaBandung\n"
          ]
        }
      ]
    },
    {
      "cell_type": "markdown",
      "source": [
        "#SOAL 1.7.2"
      ],
      "metadata": {
        "id": "z1b3fMxjJZYp"
      }
    },
    {
      "cell_type": "code",
      "source": [
        "penduduk_awal = int(input(\"masukkan jumlah penduduk awal: \"))\n",
        "kelahiran = int(input(\"masukkan jumlah kelahiran: \"))\n",
        "kematian = int(input(\"masukkan jumlah kematian: \"))\n",
        "transmigran = int(input(\"masukkan jumlah transmigran: \"))\n",
        "emigrasi = int(input(\"masukkan jumlah emigrasi: \"))\n",
        "penduduk_akhir = penduduk_awal + kelahiran + transmigran - kematian - emigrasi\n",
        "print(f\"jumlah penduduk akhir adalah {penduduk_akhir}\")\n"
      ],
      "metadata": {
        "colab": {
          "base_uri": "https://localhost:8080/"
        },
        "id": "hL2u1o-5F0fY",
        "outputId": "0858bc40-86fa-464b-c35d-c3fc8f89c316"
      },
      "execution_count": 6,
      "outputs": [
        {
          "output_type": "stream",
          "name": "stdout",
          "text": [
            "masukkan jumlah penduduk awal: 8362\n",
            "masukkan jumlah kelahiran: 2715\n",
            "masukkan jumlah kematian: 800\n",
            "masukkan jumlah transmigran: 612\n",
            "masukkan jumlah emigrasi: 98\n",
            "jumlah penduduk akhir adalah 10791\n"
          ]
        }
      ]
    },
    {
      "cell_type": "markdown",
      "source": [
        "#soal 1.7.3\n"
      ],
      "metadata": {
        "id": "lEkMgAp5JS-n"
      }
    },
    {
      "cell_type": "code",
      "source": [
        "total_harga = 0\n",
        "\n",
        "# Meminta pengguna memasukkan jumlah barang\n",
        "jumlah_barang = int(input(\"Masukkan jumlah barang yang dibeli: \"))\n",
        "\n",
        "# Menggunakan perulangan untuk meminta input harga setiap barang\n",
        "for i in range(jumlah_barang):\n",
        "    harga = float(input(f\"Masukkan harga barang ke-{i+1}: \"))\n",
        "    total_harga += harga\n",
        "\n",
        "# Mengecek apakah total harga lebih dari Rp100.000 untuk mendapatkan diskon\n",
        "if total_harga > 100000:\n",
        "    total_harga *= 0.9  # Mengurangi 10%\n",
        "\n",
        "# Menampilkan total harga akhir\n",
        "print(f\"Total harga setelah diskon (jika ada): Rp{total_harga:.2f}\")"
      ],
      "metadata": {
        "colab": {
          "base_uri": "https://localhost:8080/"
        },
        "id": "43YJ7TGDJWAK",
        "outputId": "04674344-8e0c-47aa-b98a-7c8665f70cd6"
      },
      "execution_count": 10,
      "outputs": [
        {
          "output_type": "stream",
          "name": "stdout",
          "text": [
            "Masukkan jumlah barang yang dibeli: 5\n",
            "Masukkan harga barang ke-1: 20\n",
            "Masukkan harga barang ke-2: 10\n",
            "Masukkan harga barang ke-3: 33\n",
            "Masukkan harga barang ke-4: 12\n",
            "Masukkan harga barang ke-5: 65\n",
            "Total harga setelah diskon (jika ada): Rp140.00\n"
          ]
        }
      ]
    }
  ]
}