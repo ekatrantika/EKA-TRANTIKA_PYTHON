{
  "nbformat": 4,
  "nbformat_minor": 0,
  "metadata": {
    "colab": {
      "provenance": [],
      "authorship_tag": "ABX9TyPlSf+Y1opw3vMEzRWFnGbK",
      "include_colab_link": true
    },
    "kernelspec": {
      "name": "python3",
      "display_name": "Python 3"
    },
    "language_info": {
      "name": "python"
    }
  },
  "cells": [
    {
      "cell_type": "markdown",
      "metadata": {
        "id": "view-in-github",
        "colab_type": "text"
      },
      "source": [
        "<a href=\"https://colab.research.google.com/github/ekatrantika/EKA-TRANTIKA_PYTHON/blob/main/LatihanSoalpython_eka_trantika_2C1240038_.ipynb\" target=\"_parent\"><img src=\"https://colab.research.google.com/assets/colab-badge.svg\" alt=\"Open In Colab\"/></a>"
      ]
    },
    {
      "cell_type": "markdown",
      "source": [
        "# Soal 1"
      ],
      "metadata": {
        "id": "DdMDfA2sDLWB"
      }
    },
    {
      "cell_type": "code",
      "source": [
        "#Masukkan nama anda\n",
        "nama =input(\"masukkan nama anda:\")\n",
        "#Mencetak pesan\n",
        "print(f\"Hallo{nama}!selamat belajar python!\")"
      ],
      "metadata": {
        "colab": {
          "base_uri": "https://localhost:8080/"
        },
        "id": "iLXcfMTgDNxx",
        "outputId": "f737f43f-354e-4ba7-9c80-94a23e6f67c2"
      },
      "execution_count": null,
      "outputs": [
        {
          "output_type": "stream",
          "name": "stdout",
          "text": [
            "masukkan nama anda:Eka trantika\n",
            "HalloEka trantika!selamat belajar python!\n"
          ]
        }
      ]
    },
    {
      "cell_type": "markdown",
      "source": [
        "# Soal 2"
      ],
      "metadata": {
        "id": "EDwrYmvmDrqa"
      }
    },
    {
      "cell_type": "code",
      "source": [],
      "metadata": {
        "id": "w0bXRmgYkVSW"
      },
      "execution_count": null,
      "outputs": []
    },
    {
      "cell_type": "code",
      "source": [
        "panjang =input(\"masukkan panjang:\")\n",
        "lebar =input(\"masukkan lebar:\")\n",
        "luas =input(\"masukkan luas:\")\n",
        "print(\"input persegi panjang adalah\",luas)"
      ],
      "metadata": {
        "colab": {
          "base_uri": "https://localhost:8080/"
        },
        "id": "PgatSxh2Dtzo",
        "outputId": "327022ac-0308-4730-96fc-ad06b87c9d2c"
      },
      "execution_count": null,
      "outputs": [
        {
          "output_type": "stream",
          "name": "stdout",
          "text": [
            "masukkan panjang:5\n",
            "masukkan lebar:3\n",
            "masukkan luas:15\n",
            "input persegi panjang adalah 15\n"
          ]
        }
      ]
    },
    {
      "cell_type": "markdown",
      "source": [
        "# SOAL 3"
      ],
      "metadata": {
        "id": "auAmE8wYHaNp"
      }
    },
    {
      "cell_type": "code",
      "source": [
        "angka =int(input(\"masukkan angka:\"))\n",
        "if angkaa % 2 == 0:\n",
        "   print(angka,\"adalah bilangan genap\")\n",
        "else:\n",
        "    print(angka,\"adalah bilangan ganjil\")"
      ],
      "metadata": {
        "colab": {
          "base_uri": "https://localhost:8080/"
        },
        "id": "gAwyUHWLHdtI",
        "outputId": "38302692-1c1c-48a6-8adf-1a494acc2644"
      },
      "execution_count": null,
      "outputs": [
        {
          "output_type": "stream",
          "name": "stdout",
          "text": [
            "masukkan angka:7\n",
            "7 adalah bilangan ganjil\n"
          ]
        }
      ]
    },
    {
      "cell_type": "markdown",
      "source": [
        "# Soal 4"
      ],
      "metadata": {
        "id": "U-5wrpMFL-gD"
      }
    },
    {
      "cell_type": "code",
      "source": [
        "print(\"deretan bilangan 1 sampai 20\")\n",
        "for i in range (1, 21):\n",
        "    print(i,end=\" \")"
      ],
      "metadata": {
        "colab": {
          "base_uri": "https://localhost:8080/"
        },
        "id": "ugYNTP1EMA_k",
        "outputId": "7ad0ef26-2787-46d7-ba87-20a6524c321c"
      },
      "execution_count": null,
      "outputs": [
        {
          "output_type": "stream",
          "name": "stdout",
          "text": [
            "deretan bilangan 1 sampai 20\n",
            "1 2 3 4 5 6 7 8 9 10 11 12 13 14 15 16 17 18 19 20 "
          ]
        }
      ]
    },
    {
      "cell_type": "markdown",
      "source": [
        "# Soal 5"
      ],
      "metadata": {
        "id": "UKgWRNJVNqyN"
      }
    },
    {
      "cell_type": "code",
      "source": [
        "a =int(input(\"masukkan bilangan pertama\"))\n",
        "b =int(input(\"masukkan bilangan kedua\"))\n",
        "jumlah = 0\n",
        "for i in range(a,b+1):\n",
        "    jumlah=jumlah+i\n",
        "print(f\"jumlah dari(a)sampai(b)adalah{jumlah}\")\n",
        "for i in range(a,b+1):\n",
        "    print(i, end=\" \")"
      ],
      "metadata": {
        "colab": {
          "base_uri": "https://localhost:8080/"
        },
        "id": "q7o7UNABNtUb",
        "outputId": "a021ad7a-1b85-41ba-fe1d-c04ad34935e8"
      },
      "execution_count": null,
      "outputs": [
        {
          "output_type": "stream",
          "name": "stdout",
          "text": [
            "masukkan bilangan pertama3\n",
            "masukkan bilangan kedua7\n",
            "jumlah dari(a)sampai(b)adalah25\n",
            "3 4 5 6 7 "
          ]
        }
      ]
    },
    {
      "cell_type": "markdown",
      "source": [
        "# Soal 6"
      ],
      "metadata": {
        "id": "rUun4Y2iRdXS"
      }
    },
    {
      "cell_type": "code",
      "source": [
        "a =int(input(\"masukkan angka:\"))\n",
        "b =int(input(\"masukkan angka:\"))\n",
        "print(f\"bilangan genap dalam rentang{a}sampai{b}adalah:\")\n",
        "for i in range(a,b+1):\n",
        "     if i % 2 == 0:\n",
        "      print(i)\n"
      ],
      "metadata": {
        "colab": {
          "base_uri": "https://localhost:8080/"
        },
        "id": "oQixjCn-RgRr",
        "outputId": "d69a6898-b2e3-42d5-e517-8529925936ab"
      },
      "execution_count": null,
      "outputs": [
        {
          "output_type": "stream",
          "name": "stdout",
          "text": [
            "masukkan angka:3\n",
            "masukkan angka:10\n",
            "bilangan genap dalam rentang3sampai10adalah:\n",
            "4\n",
            "6\n",
            "8\n",
            "10\n"
          ]
        }
      ]
    },
    {
      "cell_type": "code",
      "source": [],
      "metadata": {
        "id": "rDh9z_YvKIOE"
      },
      "execution_count": null,
      "outputs": []
    },
    {
      "cell_type": "markdown",
      "source": [
        "# Soal 7"
      ],
      "metadata": {
        "id": "rW9pZwneWWVc"
      }
    },
    {
      "cell_type": "code",
      "source": [
        "A =[5, 2, 8, 1]\n",
        "array_terbalik =[0] * len (A)\n",
        "for i in range(len(A)):\n",
        "    array_terbalik[i] =A[len(A) -i - 1]\n",
        "print(array_terbalik)"
      ],
      "metadata": {
        "colab": {
          "base_uri": "https://localhost:8080/"
        },
        "id": "U2i1OVVxWYuq",
        "outputId": "83eda116-3509-4567-a519-159a006c86a3"
      },
      "execution_count": null,
      "outputs": [
        {
          "output_type": "stream",
          "name": "stdout",
          "text": [
            "[1, 8, 2, 5]\n"
          ]
        }
      ]
    },
    {
      "cell_type": "markdown",
      "source": [
        "# Soal 8"
      ],
      "metadata": {
        "id": "hb_vGa5EcFZc"
      }
    },
    {
      "cell_type": "code",
      "source": [
        "# Menentukan bilangan prima\n",
        "\n",
        "angka =int(input(\"masukkan bilangan bulat:\"))\n",
        "prima =True\n",
        "if angka <2:\n",
        "   prima =false\n",
        "else:\n",
        "    for i in range(2,int(angka**0.5)+1):\n",
        "        if(angka%i) ==0:\n",
        "          prima =false\n",
        "          break\n",
        "if prima:\n",
        "   print(f\"{angka}adalah bilangan prima\")\n",
        "else:\n",
        "    print(f\"{angka}adalah bilangan prima\")\n"
      ],
      "metadata": {
        "colab": {
          "base_uri": "https://localhost:8080/"
        },
        "id": "b5wVGUbAcHs7",
        "outputId": "fc7303c8-e1b3-46e6-a10d-528bb73b8402"
      },
      "execution_count": null,
      "outputs": [
        {
          "output_type": "stream",
          "name": "stdout",
          "text": [
            "masukkan bilangan bulat:13\n",
            "13adalah bilangan prima\n"
          ]
        }
      ]
    }
  ]
}